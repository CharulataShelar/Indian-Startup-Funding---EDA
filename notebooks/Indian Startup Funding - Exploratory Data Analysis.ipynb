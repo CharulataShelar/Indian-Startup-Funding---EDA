{
 "cells": [
  {
   "cell_type": "markdown",
   "metadata": {},
   "source": [
    "## Aloha!!\n",
    "\n",
    "Today we will explore Indian startup funding data and try to gain information about startup investment market. This will help us see wheather India is providing healthy market for startup culture and their growth.\n",
    "\n",
    "Data can be taken from (https://www.kaggle.com/sudalairajkumar/indian-startup-funding) or can be scraped from (https://trak.in/india-startup-funding-investment-2015/) to get latest data.\n",
    "\n",
    "\n",
    "#### We will try to explore the data by answering below questions: \n",
    "\n",
    "A. How does the funding ecosystem change with time?\n",
    "\n",
    "B. Do cities play a major role in funding?\n",
    "\n",
    "C. Which industries are favored by investors for funding?\n",
    "\n",
    "D. Who are the important investors in the Indian Ecosystem?\n",
    "\n",
    "E. How much funds does startups generally get in India?"
   ]
  },
  {
   "cell_type": "markdown",
   "metadata": {},
   "source": [
    "## Importing required libraries\n",
    "\n",
    "**1. Pandas:** For loading data from csv into dataframe\n",
    "\n",
    "**2. datetime:** For converting date stored in string formate into datetime format to do analysis based on date, month, quarter, year\n",
    "\n",
    "**3. re:** For extrarcting value from string using pattern\n",
    "\n",
    "**4. matplotlib and seaborn:** For data visualization\n",
    "\n",
    "**5. requests:** For sending http request and using url\n",
    "\n",
    "**6. BeautifulSoup:** For scrapping html pages and grabbing the data"
   ]
  },
  {
   "cell_type": "code",
   "execution_count": 1,
   "metadata": {},
   "outputs": [],
   "source": [
    "from bs4 import BeautifulSoup\n",
    "import requests\n",
    "\n",
    "import pandas as pd\n",
    "from datetime import datetime\n",
    "import re\n",
    "import matplotlib.pyplot as plt\n",
    "import seaborn as sns\n",
    "\n",
    "%matplotlib inline\n",
    "\n",
    "import warnings\n",
    "warnings.filterwarnings('ignore')"
   ]
  },
  {
   "cell_type": "code",
   "execution_count": 2,
   "metadata": {},
   "outputs": [
    {
     "data": {
      "text/plain": [
       "200"
      ]
     },
     "execution_count": 2,
     "metadata": {},
     "output_type": "execute_result"
    }
   ],
   "source": [
    "start_url = \"https://trak.in/india-startup-funding-investment-2015/\"\n",
    "html_response = requests.get(start_url)\n",
    "html_response.status_code # code 200 means connecition was sucessful and it is now active"
   ]
  },
  {
   "cell_type": "code",
   "execution_count": 3,
   "metadata": {
    "scrolled": false
   },
   "outputs": [],
   "source": [
    "soup = BeautifulSoup(html_response.content, 'html.parser')\n",
    "#print(soup.prettify())"
   ]
  },
  {
   "cell_type": "code",
   "execution_count": 4,
   "metadata": {},
   "outputs": [],
   "source": [
    "more_data_urls = [start_url]\n",
    "\n",
    "for h3_tag in soup.find_all(name=\"h3\"):\n",
    "    more_data_urls.append(h3_tag.find(name='a').get('href'))\n",
    "\n",
    "more_data_urls = set(more_data_urls)\n",
    "#more_data_urls"
   ]
  },
  {
   "cell_type": "code",
   "execution_count": 5,
   "metadata": {
    "scrolled": true
   },
   "outputs": [
    {
     "name": "stdout",
     "output_type": "stream",
     "text": [
      "Data shape : (3308, 9)\n"
     ]
    }
   ],
   "source": [
    "new_row_list = []\n",
    "column_name = ['Sr. No.', 'Date (dd/mm/yyyy)', 'Startup Name', 'Industry/ Vertical', 'Sub-Vertical', 'City / Location', 'Investors’ Name', 'Investment Type', 'Amount (in USD)']\n",
    "\n",
    "urls_count = 1\n",
    "for url in more_data_urls:\n",
    "    html_response = requests.get(url)\n",
    "    html_response.status_code\n",
    "    soup = BeautifulSoup(html_response.content, 'html.parser')\n",
    "    \n",
    "    class_list = []\n",
    "    for element in soup.find_all(class_=True):\n",
    "        class_list.extend(element[\"class\"])\n",
    "    class_list = [cls for cls in class_list if 'tablepress-id-' in cls] \n",
    "    \n",
    "    if len(class_list) < 1:\n",
    "        skip_first_row = True\n",
    "        class_list.append(None)\n",
    "        for class_ in class_list:\n",
    "            tbl=soup.find(name='table') #, class_=class_)\n",
    "\n",
    "            n_rows = 0\n",
    "            for tr in tbl.find_all('tr'):\n",
    "                if skip_first_row == True:\n",
    "                    skip_first_row = False\n",
    "                    continue\n",
    "                new_row = {}\n",
    "                for col_id, td in enumerate(tr.find_all('td')):\n",
    "                    if col_id < len(column_name):\n",
    "                        new_row[column_name[col_id]] = td.text\n",
    "                if not new_row == {}:\n",
    "                    n_rows += 1\n",
    "                    new_row_list.append(new_row)\n",
    "            #print(\"class_list-old:\", class_, len(new_row_list), n_rows, url)\n",
    "    else:\n",
    "        for class_ in class_list:\n",
    "            tbl=soup.find(name='table', class_=class_)\n",
    "\n",
    "            n_rows = 0\n",
    "            for tr in tbl.find_all('tr'):\n",
    "                new_row = {}\n",
    "                for col_id, td in enumerate(tr.find_all('td')):\n",
    "                    if col_id < len(column_name):\n",
    "                        new_row[column_name[col_id]] = td.text\n",
    "                if not new_row == {}:\n",
    "                    n_rows += 1\n",
    "                    new_row_list.append(new_row)\n",
    "            #print(\"class_list-new :\", class_, len(new_row_list), n_rows, url)\n",
    "\n",
    "data = pd.DataFrame(new_row_list, columns=column_name)\n",
    "print(\"Data shape :\", data.shape)"
   ]
  },
  {
   "cell_type": "code",
   "execution_count": 6,
   "metadata": {
    "scrolled": true
   },
   "outputs": [
    {
     "data": {
      "text/html": [
       "<div>\n",
       "<style scoped>\n",
       "    .dataframe tbody tr th:only-of-type {\n",
       "        vertical-align: middle;\n",
       "    }\n",
       "\n",
       "    .dataframe tbody tr th {\n",
       "        vertical-align: top;\n",
       "    }\n",
       "\n",
       "    .dataframe thead th {\n",
       "        text-align: right;\n",
       "    }\n",
       "</style>\n",
       "<table border=\"1\" class=\"dataframe\">\n",
       "  <thead>\n",
       "    <tr style=\"text-align: right;\">\n",
       "      <th></th>\n",
       "      <th>Sr. No.</th>\n",
       "      <th>Date (dd/mm/yyyy)</th>\n",
       "      <th>Startup Name</th>\n",
       "      <th>Industry/ Vertical</th>\n",
       "      <th>Sub-Vertical</th>\n",
       "      <th>City / Location</th>\n",
       "      <th>Investors’ Name</th>\n",
       "      <th>Investment Type</th>\n",
       "      <th>Amount (in USD)</th>\n",
       "    </tr>\n",
       "  </thead>\n",
       "  <tbody>\n",
       "    <tr>\n",
       "      <td>0</td>\n",
       "      <td>1</td>\n",
       "      <td>02/02/2015</td>\n",
       "      <td>Faaya</td>\n",
       "      <td>Group of Angel Investors</td>\n",
       "      <td>Seed\\nFunding</td>\n",
       "      <td>16,600</td>\n",
       "      <td>At the 10 minute million event</td>\n",
       "      <td>NaN</td>\n",
       "      <td>NaN</td>\n",
       "    </tr>\n",
       "    <tr>\n",
       "      <td>1</td>\n",
       "      <td>2</td>\n",
       "      <td>02/02/2015</td>\n",
       "      <td>InstaBounce</td>\n",
       "      <td>Group of Angel Investors</td>\n",
       "      <td>Seed\\nFunding</td>\n",
       "      <td>16,600</td>\n",
       "      <td>At the 10 minute million event</td>\n",
       "      <td>NaN</td>\n",
       "      <td>NaN</td>\n",
       "    </tr>\n",
       "    <tr>\n",
       "      <td>2</td>\n",
       "      <td>3</td>\n",
       "      <td>02/02/2015</td>\n",
       "      <td>Chloroplast Foods</td>\n",
       "      <td>Group of Angel Investors</td>\n",
       "      <td>Seed\\nFunding</td>\n",
       "      <td>16,600</td>\n",
       "      <td>At the 10 minute million event</td>\n",
       "      <td>NaN</td>\n",
       "      <td>NaN</td>\n",
       "    </tr>\n",
       "    <tr>\n",
       "      <td>3</td>\n",
       "      <td>4</td>\n",
       "      <td>02/02/2015</td>\n",
       "      <td>Dealwithus</td>\n",
       "      <td>Group of Angel Investors</td>\n",
       "      <td>Seed\\nFunding</td>\n",
       "      <td>16,600</td>\n",
       "      <td>At the 10 minute million event</td>\n",
       "      <td>NaN</td>\n",
       "      <td>NaN</td>\n",
       "    </tr>\n",
       "    <tr>\n",
       "      <td>4</td>\n",
       "      <td>5</td>\n",
       "      <td>02/02/2015</td>\n",
       "      <td>CleverSharks</td>\n",
       "      <td>Group of Angel Investors</td>\n",
       "      <td>Seed\\nFunding</td>\n",
       "      <td>16,600</td>\n",
       "      <td>At the 10 minute million event</td>\n",
       "      <td>NaN</td>\n",
       "      <td>NaN</td>\n",
       "    </tr>\n",
       "    <tr>\n",
       "      <td>...</td>\n",
       "      <td>...</td>\n",
       "      <td>...</td>\n",
       "      <td>...</td>\n",
       "      <td>...</td>\n",
       "      <td>...</td>\n",
       "      <td>...</td>\n",
       "      <td>...</td>\n",
       "      <td>...</td>\n",
       "      <td>...</td>\n",
       "    </tr>\n",
       "    <tr>\n",
       "      <td>3303</td>\n",
       "      <td>76</td>\n",
       "      <td>31/5/2016</td>\n",
       "      <td>CCavenue</td>\n",
       "      <td>Consumer Internet</td>\n",
       "      <td>Payment Gateway</td>\n",
       "      <td>Mumbai</td>\n",
       "      <td>NSI Infinium Global Pvt. Ltd</td>\n",
       "      <td>Private Equity</td>\n",
       "      <td>8,900,000</td>\n",
       "    </tr>\n",
       "    <tr>\n",
       "      <td>3304</td>\n",
       "      <td>77</td>\n",
       "      <td>31/5/2016</td>\n",
       "      <td>1mg</td>\n",
       "      <td>eCommerce</td>\n",
       "      <td>Online Pharmacy</td>\n",
       "      <td>Gurgaon</td>\n",
       "      <td>HBM Healthcare Investments</td>\n",
       "      <td>Private Equity</td>\n",
       "      <td>N/A</td>\n",
       "    </tr>\n",
       "    <tr>\n",
       "      <td>3305</td>\n",
       "      <td>78</td>\n",
       "      <td>31/5/2016</td>\n",
       "      <td>Tpot</td>\n",
       "      <td>Food &amp; Beverage</td>\n",
       "      <td>QSR Chain</td>\n",
       "      <td>Gurgaon</td>\n",
       "      <td>Ashish Gupta</td>\n",
       "      <td>Seed Funding</td>\n",
       "      <td>N/A</td>\n",
       "    </tr>\n",
       "    <tr>\n",
       "      <td>3306</td>\n",
       "      <td>79</td>\n",
       "      <td>31/5/2016</td>\n",
       "      <td>MachaDalo</td>\n",
       "      <td>Consumer Internet</td>\n",
       "      <td>Hyperlocal Advertising Platform</td>\n",
       "      <td>Mumbai</td>\n",
       "      <td>Undisclosed Investors</td>\n",
       "      <td>Seed Funding</td>\n",
       "      <td>175,000</td>\n",
       "    </tr>\n",
       "    <tr>\n",
       "      <td>3307</td>\n",
       "      <td>80</td>\n",
       "      <td></td>\n",
       "      <td></td>\n",
       "      <td></td>\n",
       "      <td></td>\n",
       "      <td></td>\n",
       "      <td></td>\n",
       "      <td></td>\n",
       "      <td></td>\n",
       "    </tr>\n",
       "  </tbody>\n",
       "</table>\n",
       "<p>3308 rows × 9 columns</p>\n",
       "</div>"
      ],
      "text/plain": [
       "     Sr. No. Date (dd/mm/yyyy)       Startup Name        Industry/ Vertical  \\\n",
       "0          1        02/02/2015              Faaya  Group of Angel Investors   \n",
       "1          2        02/02/2015        InstaBounce  Group of Angel Investors   \n",
       "2          3        02/02/2015  Chloroplast Foods  Group of Angel Investors   \n",
       "3          4        02/02/2015         Dealwithus  Group of Angel Investors   \n",
       "4          5        02/02/2015       CleverSharks  Group of Angel Investors   \n",
       "...      ...               ...                ...                       ...   \n",
       "3303      76         31/5/2016           CCavenue         Consumer Internet   \n",
       "3304      77         31/5/2016                1mg                 eCommerce   \n",
       "3305      78         31/5/2016               Tpot           Food & Beverage   \n",
       "3306      79         31/5/2016          MachaDalo         Consumer Internet   \n",
       "3307      80                                                                  \n",
       "\n",
       "                         Sub-Vertical City / Location  \\\n",
       "0                       Seed\\nFunding          16,600   \n",
       "1                       Seed\\nFunding          16,600   \n",
       "2                       Seed\\nFunding          16,600   \n",
       "3                       Seed\\nFunding          16,600   \n",
       "4                       Seed\\nFunding          16,600   \n",
       "...                               ...             ...   \n",
       "3303                  Payment Gateway          Mumbai   \n",
       "3304                  Online Pharmacy         Gurgaon   \n",
       "3305                        QSR Chain         Gurgaon   \n",
       "3306  Hyperlocal Advertising Platform          Mumbai   \n",
       "3307                                                    \n",
       "\n",
       "                     Investors’ Name Investment Type Amount (in USD)  \n",
       "0     At the 10 minute million event             NaN             NaN  \n",
       "1     At the 10 minute million event             NaN             NaN  \n",
       "2     At the 10 minute million event             NaN             NaN  \n",
       "3     At the 10 minute million event             NaN             NaN  \n",
       "4     At the 10 minute million event             NaN             NaN  \n",
       "...                              ...             ...             ...  \n",
       "3303    NSI Infinium Global Pvt. Ltd  Private Equity       8,900,000  \n",
       "3304      HBM Healthcare Investments  Private Equity             N/A  \n",
       "3305                    Ashish Gupta    Seed Funding             N/A  \n",
       "3306           Undisclosed Investors    Seed Funding         175,000  \n",
       "3307                                                                  \n",
       "\n",
       "[3308 rows x 9 columns]"
      ]
     },
     "execution_count": 6,
     "metadata": {},
     "output_type": "execute_result"
    }
   ],
   "source": [
    "data"
   ]
  },
  {
   "cell_type": "markdown",
   "metadata": {},
   "source": [
    "### Before starting EDA we need to chec k if the data is clean\n",
    "\n",
    "**1.** Making Column names easy to read and access\n",
    "\n",
    "**2.** Converting Date, Amount columns in datetime and float formate for processing\n",
    "\n",
    "**3.** Checking and cleaning Null, incorrect values in columns"
   ]
  },
  {
   "cell_type": "code",
   "execution_count": 7,
   "metadata": {
    "scrolled": true
   },
   "outputs": [
    {
     "data": {
      "text/plain": [
       "Index(['Sr. No.', 'Date (dd/mm/yyyy)', 'Startup Name', 'Industry/ Vertical',\n",
       "       'Sub-Vertical', 'City / Location', 'Investors’ Name', 'Investment Type',\n",
       "       'Amount (in USD)'],\n",
       "      dtype='object')"
      ]
     },
     "execution_count": 7,
     "metadata": {},
     "output_type": "execute_result"
    }
   ],
   "source": [
    "data_copy = data.copy()\n",
    "data.columns"
   ]
  },
  {
   "cell_type": "code",
   "execution_count": 8,
   "metadata": {},
   "outputs": [
    {
     "data": {
      "text/plain": [
       "(3308, 9)"
      ]
     },
     "execution_count": 8,
     "metadata": {},
     "output_type": "execute_result"
    }
   ],
   "source": [
    "data = data_copy\n",
    "data = data.dropna(how='all')\n",
    "data.shape"
   ]
  },
  {
   "cell_type": "code",
   "execution_count": 9,
   "metadata": {},
   "outputs": [
    {
     "name": "stdout",
     "output_type": "stream",
     "text": [
      "<class 'pandas.core.frame.DataFrame'>\n",
      "Int64Index: 3308 entries, 0 to 3307\n",
      "Data columns (total 9 columns):\n",
      "Sr. No.               3308 non-null object\n",
      "Date (dd/mm/yyyy)     3308 non-null object\n",
      "Startup Name          3308 non-null object\n",
      "Industry/ Vertical    3308 non-null object\n",
      "Sub-Vertical          3308 non-null object\n",
      "City / Location       3308 non-null object\n",
      "Investors’ Name       3308 non-null object\n",
      "Investment Type       3133 non-null object\n",
      "Amount (in USD)       3130 non-null object\n",
      "dtypes: object(9)\n",
      "memory usage: 258.4+ KB\n"
     ]
    }
   ],
   "source": [
    "data.info()"
   ]
  },
  {
   "cell_type": "code",
   "execution_count": 10,
   "metadata": {},
   "outputs": [
    {
     "data": {
      "text/html": [
       "<div>\n",
       "<style scoped>\n",
       "    .dataframe tbody tr th:only-of-type {\n",
       "        vertical-align: middle;\n",
       "    }\n",
       "\n",
       "    .dataframe tbody tr th {\n",
       "        vertical-align: top;\n",
       "    }\n",
       "\n",
       "    .dataframe thead th {\n",
       "        text-align: right;\n",
       "    }\n",
       "</style>\n",
       "<table border=\"1\" class=\"dataframe\">\n",
       "  <thead>\n",
       "    <tr style=\"text-align: right;\">\n",
       "      <th></th>\n",
       "      <th>Sr. No.</th>\n",
       "      <th>Date</th>\n",
       "      <th>StartupName</th>\n",
       "      <th>IndustryVertical</th>\n",
       "      <th>SubVertical</th>\n",
       "      <th>CityLocation</th>\n",
       "      <th>InvestorsName</th>\n",
       "      <th>InvestmentType</th>\n",
       "      <th>AmountUSD</th>\n",
       "    </tr>\n",
       "  </thead>\n",
       "  <tbody>\n",
       "    <tr>\n",
       "      <td>0</td>\n",
       "      <td>1</td>\n",
       "      <td>02/02/2015</td>\n",
       "      <td>Faaya</td>\n",
       "      <td>Group of Angel Investors</td>\n",
       "      <td>Seed\\nFunding</td>\n",
       "      <td>16,600</td>\n",
       "      <td>At the 10 minute million event</td>\n",
       "      <td>NaN</td>\n",
       "      <td>NaN</td>\n",
       "    </tr>\n",
       "    <tr>\n",
       "      <td>1</td>\n",
       "      <td>2</td>\n",
       "      <td>02/02/2015</td>\n",
       "      <td>InstaBounce</td>\n",
       "      <td>Group of Angel Investors</td>\n",
       "      <td>Seed\\nFunding</td>\n",
       "      <td>16,600</td>\n",
       "      <td>At the 10 minute million event</td>\n",
       "      <td>NaN</td>\n",
       "      <td>NaN</td>\n",
       "    </tr>\n",
       "    <tr>\n",
       "      <td>2</td>\n",
       "      <td>3</td>\n",
       "      <td>02/02/2015</td>\n",
       "      <td>Chloroplast Foods</td>\n",
       "      <td>Group of Angel Investors</td>\n",
       "      <td>Seed\\nFunding</td>\n",
       "      <td>16,600</td>\n",
       "      <td>At the 10 minute million event</td>\n",
       "      <td>NaN</td>\n",
       "      <td>NaN</td>\n",
       "    </tr>\n",
       "    <tr>\n",
       "      <td>3</td>\n",
       "      <td>4</td>\n",
       "      <td>02/02/2015</td>\n",
       "      <td>Dealwithus</td>\n",
       "      <td>Group of Angel Investors</td>\n",
       "      <td>Seed\\nFunding</td>\n",
       "      <td>16,600</td>\n",
       "      <td>At the 10 minute million event</td>\n",
       "      <td>NaN</td>\n",
       "      <td>NaN</td>\n",
       "    </tr>\n",
       "    <tr>\n",
       "      <td>4</td>\n",
       "      <td>5</td>\n",
       "      <td>02/02/2015</td>\n",
       "      <td>CleverSharks</td>\n",
       "      <td>Group of Angel Investors</td>\n",
       "      <td>Seed\\nFunding</td>\n",
       "      <td>16,600</td>\n",
       "      <td>At the 10 minute million event</td>\n",
       "      <td>NaN</td>\n",
       "      <td>NaN</td>\n",
       "    </tr>\n",
       "  </tbody>\n",
       "</table>\n",
       "</div>"
      ],
      "text/plain": [
       "  Sr. No.        Date        StartupName          IndustryVertical  \\\n",
       "0       1  02/02/2015              Faaya  Group of Angel Investors   \n",
       "1       2  02/02/2015        InstaBounce  Group of Angel Investors   \n",
       "2       3  02/02/2015  Chloroplast Foods  Group of Angel Investors   \n",
       "3       4  02/02/2015         Dealwithus  Group of Angel Investors   \n",
       "4       5  02/02/2015       CleverSharks  Group of Angel Investors   \n",
       "\n",
       "     SubVertical CityLocation                   InvestorsName InvestmentType  \\\n",
       "0  Seed\\nFunding       16,600  At the 10 minute million event            NaN   \n",
       "1  Seed\\nFunding       16,600  At the 10 minute million event            NaN   \n",
       "2  Seed\\nFunding       16,600  At the 10 minute million event            NaN   \n",
       "3  Seed\\nFunding       16,600  At the 10 minute million event            NaN   \n",
       "4  Seed\\nFunding       16,600  At the 10 minute million event            NaN   \n",
       "\n",
       "  AmountUSD  \n",
       "0       NaN  \n",
       "1       NaN  \n",
       "2       NaN  \n",
       "3       NaN  \n",
       "4       NaN  "
      ]
     },
     "execution_count": 10,
     "metadata": {},
     "output_type": "execute_result"
    }
   ],
   "source": [
    "# 1. The data types of data in few columns are not correct to do statistical analysis, hence it needs to be fixed using dtype, astype()\n",
    "\n",
    "data.rename(columns={\"Date (dd/mm/yyyy)\": \"Date\", 'Startup Name': 'StartupName', \"Industry/ Vertical\":'IndustryVertical', \"Sub-Vertical\": 'SubVertical', \"City / Location\": 'CityLocation', \"Investors’ Name\": 'InvestorsName','Investment Type':'InvestmentType', 'Amount (in USD)':'AmountUSD'}, inplace=True)\n",
    "data.head()"
   ]
  },
  {
   "cell_type": "code",
   "execution_count": 11,
   "metadata": {},
   "outputs": [
    {
     "name": "stdout",
     "output_type": "stream",
     "text": [
      "<class 'pandas.core.frame.DataFrame'>\n",
      "Int64Index: 3271 entries, 0 to 3306\n",
      "Data columns (total 9 columns):\n",
      "Sr. No.             3271 non-null object\n",
      "Date                3271 non-null object\n",
      "StartupName         3271 non-null object\n",
      "IndustryVertical    3271 non-null object\n",
      "SubVertical         3271 non-null object\n",
      "CityLocation        3271 non-null object\n",
      "InvestorsName       3271 non-null object\n",
      "InvestmentType      3099 non-null object\n",
      "AmountUSD           3099 non-null object\n",
      "dtypes: object(9)\n",
      "memory usage: 255.5+ KB\n"
     ]
    }
   ],
   "source": [
    "# 2. Few values 'Date' column are not in correcdt date format checking those rows\n",
    "\n",
    "del_index=data[~data.Date.str.contains('.')].index\n",
    "data.drop(inplace=True, index=del_index)\n",
    "data = data.reindex()\n",
    "data.info()"
   ]
  },
  {
   "cell_type": "code",
   "execution_count": 12,
   "metadata": {},
   "outputs": [],
   "source": [
    "# 3. Correcting values Date column\n",
    "\n",
    "data.loc[data['Date']==\"01/07/015\", 'Date'] = \"01/07/2015\"\n",
    "data.loc[data['Date']==\"Â 10/7/2015\", 'Date'] = \"10/07/2015\"\n",
    "data.loc[data['Date']==\"05/072018\", 'Date'] = \"05/07/2018\"\n",
    "data.loc[data['Date']==\"12/05.2015\", 'Date'] = \"12/05/2015\"\n",
    "data.loc[data['Date']==\"15/01.2015\", 'Date'] = \"15/01/2015\"\n",
    "data.loc[data['Date']==\"22/01//2015\", 'Date'] = \"22/01/2015\"\n",
    "data.loc[data['Date']==\"13/04.2015\", 'Date'] = \"13/04/2015\""
   ]
  },
  {
   "cell_type": "code",
   "execution_count": 13,
   "metadata": {
    "scrolled": true
   },
   "outputs": [
    {
     "name": "stdout",
     "output_type": "stream",
     "text": [
      "<class 'pandas.core.frame.DataFrame'>\n",
      "Int64Index: 3271 entries, 0 to 3306\n",
      "Data columns (total 9 columns):\n",
      "Sr. No.             3271 non-null object\n",
      "Date                3271 non-null datetime64[ns]\n",
      "StartupName         3271 non-null object\n",
      "IndustryVertical    3271 non-null object\n",
      "SubVertical         3271 non-null object\n",
      "CityLocation        3271 non-null object\n",
      "InvestorsName       3271 non-null object\n",
      "InvestmentType      3099 non-null object\n",
      "AmountUSD           3099 non-null object\n",
      "dtypes: datetime64[ns](1), object(8)\n",
      "memory usage: 255.5+ KB\n"
     ]
    }
   ],
   "source": [
    "# 4. Converting 'Date' column from string to Date format to separate Year, month, also to display charts. \n",
    "\n",
    "data['Date']= pd.to_datetime(data['Date'])\n",
    "data.info()"
   ]
  },
  {
   "cell_type": "code",
   "execution_count": 14,
   "metadata": {},
   "outputs": [
    {
     "data": {
      "text/html": [
       "<div>\n",
       "<style scoped>\n",
       "    .dataframe tbody tr th:only-of-type {\n",
       "        vertical-align: middle;\n",
       "    }\n",
       "\n",
       "    .dataframe tbody tr th {\n",
       "        vertical-align: top;\n",
       "    }\n",
       "\n",
       "    .dataframe thead th {\n",
       "        text-align: right;\n",
       "    }\n",
       "</style>\n",
       "<table border=\"1\" class=\"dataframe\">\n",
       "  <thead>\n",
       "    <tr style=\"text-align: right;\">\n",
       "      <th></th>\n",
       "      <th>Sr. No.</th>\n",
       "      <th>Date</th>\n",
       "      <th>StartupName</th>\n",
       "      <th>IndustryVertical</th>\n",
       "      <th>SubVertical</th>\n",
       "      <th>CityLocation</th>\n",
       "      <th>InvestorsName</th>\n",
       "      <th>InvestmentType</th>\n",
       "      <th>AmountUSD</th>\n",
       "      <th>NewAmountUSD</th>\n",
       "    </tr>\n",
       "  </thead>\n",
       "  <tbody>\n",
       "    <tr>\n",
       "      <td>350</td>\n",
       "      <td>34</td>\n",
       "      <td>2017-10-18</td>\n",
       "      <td>LenDen Club</td>\n",
       "      <td>Consumer Internet</td>\n",
       "      <td>Online peer-to-peer lending platform</td>\n",
       "      <td>Mumbai</td>\n",
       "      <td>Undisclosed Investor</td>\n",
       "      <td>Seed Funding</td>\n",
       "      <td>500,000</td>\n",
       "      <td>500,000</td>\n",
       "    </tr>\n",
       "    <tr>\n",
       "      <td>351</td>\n",
       "      <td>35</td>\n",
       "      <td>2017-10-23</td>\n",
       "      <td>Toppr</td>\n",
       "      <td>Consumer Internet</td>\n",
       "      <td>Mobile based learning app</td>\n",
       "      <td>Mumbai</td>\n",
       "      <td>SAIF Partners, Helion Ventures, FIL Capital Ma...</td>\n",
       "      <td>Private Equity</td>\n",
       "      <td>7,000,000</td>\n",
       "      <td>7,000,000</td>\n",
       "    </tr>\n",
       "    <tr>\n",
       "      <td>352</td>\n",
       "      <td>36</td>\n",
       "      <td>2017-10-23</td>\n",
       "      <td>RAW Pressery</td>\n",
       "      <td>Food &amp; Beverage</td>\n",
       "      <td>Cold pressed Juice maker</td>\n",
       "      <td>Mumbai</td>\n",
       "      <td>DSG Consumer Partners, Sequoia Capital, Saama ...</td>\n",
       "      <td>Private Equity</td>\n",
       "      <td>6,000,000</td>\n",
       "      <td>6,000,000</td>\n",
       "    </tr>\n",
       "    <tr>\n",
       "      <td>353</td>\n",
       "      <td>37</td>\n",
       "      <td>2017-10-23</td>\n",
       "      <td>Cashe</td>\n",
       "      <td>Consumer Internet</td>\n",
       "      <td>app-only lending platform</td>\n",
       "      <td>Mumbai</td>\n",
       "      <td>IFMR Capital</td>\n",
       "      <td>Debt Funding</td>\n",
       "      <td>3,100,000</td>\n",
       "      <td>3,100,000</td>\n",
       "    </tr>\n",
       "    <tr>\n",
       "      <td>354</td>\n",
       "      <td>38</td>\n",
       "      <td>2017-10-23</td>\n",
       "      <td>Park Easy</td>\n",
       "      <td>Consumer Internet</td>\n",
       "      <td>Machine learning based parking discovery</td>\n",
       "      <td>Kolkata</td>\n",
       "      <td>Rockstart Accelerator</td>\n",
       "      <td>Seed Funding</td>\n",
       "      <td>118,000</td>\n",
       "      <td>118,000</td>\n",
       "    </tr>\n",
       "    <tr>\n",
       "      <td>355</td>\n",
       "      <td>39</td>\n",
       "      <td>2017-10-24</td>\n",
       "      <td>TagBox</td>\n",
       "      <td>Technology</td>\n",
       "      <td>Cold Chain monitoring solution</td>\n",
       "      <td>Bangalore</td>\n",
       "      <td>Indian Angel network, IAN Fund</td>\n",
       "      <td>Seed Funding</td>\n",
       "      <td>N/A</td>\n",
       "      <td>N/A</td>\n",
       "    </tr>\n",
       "    <tr>\n",
       "      <td>356</td>\n",
       "      <td>40</td>\n",
       "      <td>2017-10-24</td>\n",
       "      <td>FYRE</td>\n",
       "      <td>Food &amp; Beverage</td>\n",
       "      <td>Herbal energy shot maker</td>\n",
       "      <td>Mumbai</td>\n",
       "      <td>Venture Catalysts</td>\n",
       "      <td>Seed Funding</td>\n",
       "      <td>500,000</td>\n",
       "      <td>500,000</td>\n",
       "    </tr>\n",
       "    <tr>\n",
       "      <td>357</td>\n",
       "      <td>41</td>\n",
       "      <td>2017-10-24</td>\n",
       "      <td>ZipLoan</td>\n",
       "      <td>Consumer Internet</td>\n",
       "      <td>SME lending platform</td>\n",
       "      <td>New Delhi</td>\n",
       "      <td>Matrix Partners India, WaterBridge Ventures, W...</td>\n",
       "      <td>Private Equity</td>\n",
       "      <td>3,000,000</td>\n",
       "      <td>3,000,000</td>\n",
       "    </tr>\n",
       "  </tbody>\n",
       "</table>\n",
       "</div>"
      ],
      "text/plain": [
       "    Sr. No.       Date   StartupName   IndustryVertical  \\\n",
       "350      34 2017-10-18   LenDen Club  Consumer Internet   \n",
       "351      35 2017-10-23         Toppr  Consumer Internet   \n",
       "352      36 2017-10-23  RAW Pressery    Food & Beverage   \n",
       "353      37 2017-10-23         Cashe  Consumer Internet   \n",
       "354      38 2017-10-23     Park Easy  Consumer Internet   \n",
       "355      39 2017-10-24        TagBox         Technology   \n",
       "356      40 2017-10-24          FYRE    Food & Beverage   \n",
       "357      41 2017-10-24       ZipLoan  Consumer Internet   \n",
       "\n",
       "                                  SubVertical CityLocation  \\\n",
       "350      Online peer-to-peer lending platform       Mumbai   \n",
       "351                 Mobile based learning app       Mumbai   \n",
       "352                  Cold pressed Juice maker       Mumbai   \n",
       "353                 app-only lending platform       Mumbai   \n",
       "354  Machine learning based parking discovery      Kolkata   \n",
       "355            Cold Chain monitoring solution    Bangalore   \n",
       "356                  Herbal energy shot maker       Mumbai   \n",
       "357                      SME lending platform    New Delhi   \n",
       "\n",
       "                                         InvestorsName  InvestmentType  \\\n",
       "350                               Undisclosed Investor    Seed Funding   \n",
       "351  SAIF Partners, Helion Ventures, FIL Capital Ma...  Private Equity   \n",
       "352  DSG Consumer Partners, Sequoia Capital, Saama ...  Private Equity   \n",
       "353                                       IFMR Capital    Debt Funding   \n",
       "354                              Rockstart Accelerator    Seed Funding   \n",
       "355                     Indian Angel network, IAN Fund    Seed Funding   \n",
       "356                                  Venture Catalysts    Seed Funding   \n",
       "357  Matrix Partners India, WaterBridge Ventures, W...  Private Equity   \n",
       "\n",
       "     AmountUSD NewAmountUSD  \n",
       "350    500,000      500,000  \n",
       "351  7,000,000    7,000,000  \n",
       "352  6,000,000    6,000,000  \n",
       "353  3,100,000    3,100,000  \n",
       "354    118,000      118,000  \n",
       "355        N/A          N/A  \n",
       "356    500,000      500,000  \n",
       "357  3,000,000    3,000,000  "
      ]
     },
     "execution_count": 14,
     "metadata": {},
     "output_type": "execute_result"
    }
   ],
   "source": [
    "# 5. Some values for 'AmountUSD' are present in 'InvestmentType' column\n",
    "\n",
    "data['NewAmountUSD'] = data['AmountUSD']\n",
    "data.loc[((data['AmountUSD'].str.contains('[a-zA-Z]')) | (data['AmountUSD'].isin(['nan','']))) & (data['InvestmentType'].str.contains('[0-9]')), 'NewAmountUSD'] = data['InvestmentType']\n",
    "data.iloc[347:355, :]\n",
    "\n",
    "#data.loc[(~ data['InvestmentType'].isin(['N/A', 'NaN'])) & (data['InvestmentType'].str.contains(','))]"
   ]
  },
  {
   "cell_type": "code",
   "execution_count": 15,
   "metadata": {
    "scrolled": true
   },
   "outputs": [
    {
     "data": {
      "text/html": [
       "<div>\n",
       "<style scoped>\n",
       "    .dataframe tbody tr th:only-of-type {\n",
       "        vertical-align: middle;\n",
       "    }\n",
       "\n",
       "    .dataframe tbody tr th {\n",
       "        vertical-align: top;\n",
       "    }\n",
       "\n",
       "    .dataframe thead th {\n",
       "        text-align: right;\n",
       "    }\n",
       "</style>\n",
       "<table border=\"1\" class=\"dataframe\">\n",
       "  <thead>\n",
       "    <tr style=\"text-align: right;\">\n",
       "      <th></th>\n",
       "      <th>Sr. No.</th>\n",
       "      <th>Date</th>\n",
       "      <th>StartupName</th>\n",
       "      <th>IndustryVertical</th>\n",
       "      <th>SubVertical</th>\n",
       "      <th>CityLocation</th>\n",
       "      <th>InvestorsName</th>\n",
       "      <th>InvestmentType</th>\n",
       "      <th>AmountUSD</th>\n",
       "      <th>NewAmountUSD</th>\n",
       "    </tr>\n",
       "  </thead>\n",
       "  <tbody>\n",
       "    <tr>\n",
       "      <td>0</td>\n",
       "      <td>1</td>\n",
       "      <td>2015-02-02</td>\n",
       "      <td>Faaya</td>\n",
       "      <td>Group of Angel Investors</td>\n",
       "      <td>Seed\\nFunding</td>\n",
       "      <td>16,600</td>\n",
       "      <td>At the 10 minute million event</td>\n",
       "      <td>NaN</td>\n",
       "      <td>NaN</td>\n",
       "      <td>0.0</td>\n",
       "    </tr>\n",
       "    <tr>\n",
       "      <td>1</td>\n",
       "      <td>2</td>\n",
       "      <td>2015-02-02</td>\n",
       "      <td>InstaBounce</td>\n",
       "      <td>Group of Angel Investors</td>\n",
       "      <td>Seed\\nFunding</td>\n",
       "      <td>16,600</td>\n",
       "      <td>At the 10 minute million event</td>\n",
       "      <td>NaN</td>\n",
       "      <td>NaN</td>\n",
       "      <td>0.0</td>\n",
       "    </tr>\n",
       "    <tr>\n",
       "      <td>2</td>\n",
       "      <td>3</td>\n",
       "      <td>2015-02-02</td>\n",
       "      <td>Chloroplast Foods</td>\n",
       "      <td>Group of Angel Investors</td>\n",
       "      <td>Seed\\nFunding</td>\n",
       "      <td>16,600</td>\n",
       "      <td>At the 10 minute million event</td>\n",
       "      <td>NaN</td>\n",
       "      <td>NaN</td>\n",
       "      <td>0.0</td>\n",
       "    </tr>\n",
       "    <tr>\n",
       "      <td>3</td>\n",
       "      <td>4</td>\n",
       "      <td>2015-02-02</td>\n",
       "      <td>Dealwithus</td>\n",
       "      <td>Group of Angel Investors</td>\n",
       "      <td>Seed\\nFunding</td>\n",
       "      <td>16,600</td>\n",
       "      <td>At the 10 minute million event</td>\n",
       "      <td>NaN</td>\n",
       "      <td>NaN</td>\n",
       "      <td>0.0</td>\n",
       "    </tr>\n",
       "    <tr>\n",
       "      <td>4</td>\n",
       "      <td>5</td>\n",
       "      <td>2015-02-02</td>\n",
       "      <td>CleverSharks</td>\n",
       "      <td>Group of Angel Investors</td>\n",
       "      <td>Seed\\nFunding</td>\n",
       "      <td>16,600</td>\n",
       "      <td>At the 10 minute million event</td>\n",
       "      <td>NaN</td>\n",
       "      <td>NaN</td>\n",
       "      <td>0.0</td>\n",
       "    </tr>\n",
       "  </tbody>\n",
       "</table>\n",
       "</div>"
      ],
      "text/plain": [
       "  Sr. No.       Date        StartupName          IndustryVertical  \\\n",
       "0       1 2015-02-02              Faaya  Group of Angel Investors   \n",
       "1       2 2015-02-02        InstaBounce  Group of Angel Investors   \n",
       "2       3 2015-02-02  Chloroplast Foods  Group of Angel Investors   \n",
       "3       4 2015-02-02         Dealwithus  Group of Angel Investors   \n",
       "4       5 2015-02-02       CleverSharks  Group of Angel Investors   \n",
       "\n",
       "     SubVertical CityLocation                   InvestorsName InvestmentType  \\\n",
       "0  Seed\\nFunding       16,600  At the 10 minute million event            NaN   \n",
       "1  Seed\\nFunding       16,600  At the 10 minute million event            NaN   \n",
       "2  Seed\\nFunding       16,600  At the 10 minute million event            NaN   \n",
       "3  Seed\\nFunding       16,600  At the 10 minute million event            NaN   \n",
       "4  Seed\\nFunding       16,600  At the 10 minute million event            NaN   \n",
       "\n",
       "  AmountUSD  NewAmountUSD  \n",
       "0       NaN           0.0  \n",
       "1       NaN           0.0  \n",
       "2       NaN           0.0  \n",
       "3       NaN           0.0  \n",
       "4       NaN           0.0  "
      ]
     },
     "execution_count": 15,
     "metadata": {},
     "output_type": "execute_result"
    }
   ],
   "source": [
    "# 6. Converting datatype of values in 'AmountUSD' column from string to float. Marking Undisclosed values to 'nan' and then converting into float type\n",
    "# Also imputing blank values in 'Amount' column by minimum funding amount\n",
    "\n",
    "data.loc[data['NewAmountUSD'].isin(['undisclosed', 'unknown', 'Undisclosed', 'N/A']), 'NewAmountUSD'] = 'nan'\n",
    "data['NewAmountUSD'] = data['NewAmountUSD'].astype(str)\n",
    "data['NewAmountUSD'] = data['NewAmountUSD'].apply(lambda x : re.sub(\"[^0-9]\", \"\", x))\n",
    "data.loc[data['NewAmountUSD']=='', 'NewAmountUSD'] = 0 #'nan' # replace with average of funding provided that months \n",
    "data['NewAmountUSD'] = data['NewAmountUSD'].astype(float)\n",
    "data.loc[data['NewAmountUSD']==0.0, 'NewAmountUSD'] = data['NewAmountUSD'].min()\n",
    "data.head()"
   ]
  },
  {
   "cell_type": "code",
   "execution_count": 16,
   "metadata": {},
   "outputs": [],
   "source": [
    "# 7. Correcting values in 'CityLocation' column\n",
    "\n",
    "data.loc[data['CityLocation'] == 'Bangalore', 'CityLocation'] = 'Bengaluru'\n",
    "data.loc[data['CityLocation'] == 'Gurgaon', 'CityLocation'] = 'Gurugram'\n",
    "data.loc[data['CityLocation'] == 'New Delhi', 'CityLocation'] = 'Delhi'"
   ]
  },
  {
   "cell_type": "code",
   "execution_count": 17,
   "metadata": {},
   "outputs": [],
   "source": [
    "# 8. Decomposing Date into Year, month, YearMonth to do analysis by quarter\n",
    "\n",
    "data['YearMonth'] = data['Date'].map(lambda x: 100*x.year + x.month)\n",
    "data['Year'] = data['Date'].map(lambda x: x.year)\n",
    "data['Month'] = data['Date'].map(lambda x: x.month)"
   ]
  },
  {
   "cell_type": "code",
   "execution_count": 18,
   "metadata": {},
   "outputs": [],
   "source": [
    "# 9. Correcting values in 'InvestmentType' column\n",
    "\n",
    "data.loc[(data['InvestmentType'].isin(['', 'N/A', 'Undisclosed investors', 'Undisclosed Investor', 'Undisclosed Investors', \\\n",
    "                                     'Undisclosed', 'undisclosed investors', 'Undisclosed investor', \\\n",
    "                                     'Undisclosed multiple investors', 'Undisclosed angel investors', \\\n",
    "                                     '3 undisclosed investors'])) | (data['InvestmentType'].str.contains('[0-9]')), 'InvestmentType'] = 'Undisclosed Investors'"
   ]
  },
  {
   "cell_type": "code",
   "execution_count": 19,
   "metadata": {},
   "outputs": [],
   "source": [
    "# 10. Correcting values in 'InvestorsName' column\n",
    "\n",
    "data.loc[data['InvestorsName'].isin(['',' ', \"N/A\"]), 'InvestorsName'] = \"Undisclosed Investors\""
   ]
  },
  {
   "cell_type": "code",
   "execution_count": 20,
   "metadata": {},
   "outputs": [],
   "source": [
    "# 11. removing rows not having startup name\n",
    "\n",
    "data.drop(index=data[data['StartupName']==''].index, inplace=True)"
   ]
  },
  {
   "cell_type": "markdown",
   "metadata": {},
   "source": [
    "## Starting EDA now!"
   ]
  },
  {
   "cell_type": "code",
   "execution_count": 21,
   "metadata": {},
   "outputs": [
    {
     "data": {
      "text/html": [
       "<div>\n",
       "<style scoped>\n",
       "    .dataframe tbody tr th:only-of-type {\n",
       "        vertical-align: middle;\n",
       "    }\n",
       "\n",
       "    .dataframe tbody tr th {\n",
       "        vertical-align: top;\n",
       "    }\n",
       "\n",
       "    .dataframe thead th {\n",
       "        text-align: right;\n",
       "    }\n",
       "</style>\n",
       "<table border=\"1\" class=\"dataframe\">\n",
       "  <thead>\n",
       "    <tr style=\"text-align: right;\">\n",
       "      <th></th>\n",
       "      <th>Year</th>\n",
       "      <th>Month</th>\n",
       "      <th>StartupName</th>\n",
       "      <th>IndustryVertical</th>\n",
       "      <th>SubVertical</th>\n",
       "      <th>CityLocation</th>\n",
       "      <th>InvestorsName</th>\n",
       "      <th>InvestmentType</th>\n",
       "      <th>NewAmountUSD</th>\n",
       "    </tr>\n",
       "    <tr>\n",
       "      <th>Date</th>\n",
       "      <th></th>\n",
       "      <th></th>\n",
       "      <th></th>\n",
       "      <th></th>\n",
       "      <th></th>\n",
       "      <th></th>\n",
       "      <th></th>\n",
       "      <th></th>\n",
       "      <th></th>\n",
       "    </tr>\n",
       "  </thead>\n",
       "  <tbody>\n",
       "    <tr>\n",
       "      <td>2015-02-02</td>\n",
       "      <td>2015</td>\n",
       "      <td>2</td>\n",
       "      <td>Faaya</td>\n",
       "      <td>Group of Angel Investors</td>\n",
       "      <td>Seed\\nFunding</td>\n",
       "      <td>16,600</td>\n",
       "      <td>At the 10 minute million event</td>\n",
       "      <td>NaN</td>\n",
       "      <td>0.0</td>\n",
       "    </tr>\n",
       "    <tr>\n",
       "      <td>2015-02-02</td>\n",
       "      <td>2015</td>\n",
       "      <td>2</td>\n",
       "      <td>InstaBounce</td>\n",
       "      <td>Group of Angel Investors</td>\n",
       "      <td>Seed\\nFunding</td>\n",
       "      <td>16,600</td>\n",
       "      <td>At the 10 minute million event</td>\n",
       "      <td>NaN</td>\n",
       "      <td>0.0</td>\n",
       "    </tr>\n",
       "    <tr>\n",
       "      <td>2015-02-02</td>\n",
       "      <td>2015</td>\n",
       "      <td>2</td>\n",
       "      <td>Chloroplast Foods</td>\n",
       "      <td>Group of Angel Investors</td>\n",
       "      <td>Seed\\nFunding</td>\n",
       "      <td>16,600</td>\n",
       "      <td>At the 10 minute million event</td>\n",
       "      <td>NaN</td>\n",
       "      <td>0.0</td>\n",
       "    </tr>\n",
       "    <tr>\n",
       "      <td>2015-02-02</td>\n",
       "      <td>2015</td>\n",
       "      <td>2</td>\n",
       "      <td>Dealwithus</td>\n",
       "      <td>Group of Angel Investors</td>\n",
       "      <td>Seed\\nFunding</td>\n",
       "      <td>16,600</td>\n",
       "      <td>At the 10 minute million event</td>\n",
       "      <td>NaN</td>\n",
       "      <td>0.0</td>\n",
       "    </tr>\n",
       "    <tr>\n",
       "      <td>2015-02-02</td>\n",
       "      <td>2015</td>\n",
       "      <td>2</td>\n",
       "      <td>CleverSharks</td>\n",
       "      <td>Group of Angel Investors</td>\n",
       "      <td>Seed\\nFunding</td>\n",
       "      <td>16,600</td>\n",
       "      <td>At the 10 minute million event</td>\n",
       "      <td>NaN</td>\n",
       "      <td>0.0</td>\n",
       "    </tr>\n",
       "  </tbody>\n",
       "</table>\n",
       "</div>"
      ],
      "text/plain": [
       "            Year  Month        StartupName          IndustryVertical  \\\n",
       "Date                                                                   \n",
       "2015-02-02  2015      2              Faaya  Group of Angel Investors   \n",
       "2015-02-02  2015      2        InstaBounce  Group of Angel Investors   \n",
       "2015-02-02  2015      2  Chloroplast Foods  Group of Angel Investors   \n",
       "2015-02-02  2015      2         Dealwithus  Group of Angel Investors   \n",
       "2015-02-02  2015      2       CleverSharks  Group of Angel Investors   \n",
       "\n",
       "              SubVertical CityLocation                   InvestorsName  \\\n",
       "Date                                                                     \n",
       "2015-02-02  Seed\\nFunding       16,600  At the 10 minute million event   \n",
       "2015-02-02  Seed\\nFunding       16,600  At the 10 minute million event   \n",
       "2015-02-02  Seed\\nFunding       16,600  At the 10 minute million event   \n",
       "2015-02-02  Seed\\nFunding       16,600  At the 10 minute million event   \n",
       "2015-02-02  Seed\\nFunding       16,600  At the 10 minute million event   \n",
       "\n",
       "           InvestmentType  NewAmountUSD  \n",
       "Date                                     \n",
       "2015-02-02            NaN           0.0  \n",
       "2015-02-02            NaN           0.0  \n",
       "2015-02-02            NaN           0.0  \n",
       "2015-02-02            NaN           0.0  \n",
       "2015-02-02            NaN           0.0  "
      ]
     },
     "execution_count": 21,
     "metadata": {},
     "output_type": "execute_result"
    }
   ],
   "source": [
    "startup_data = data[['Date', 'Year', 'Month', 'StartupName', 'IndustryVertical', 'SubVertical', 'CityLocation', 'InvestorsName', 'InvestmentType', 'NewAmountUSD']]\n",
    "startup_data['Date'] = pd.to_datetime(startup_data.Date)\n",
    "startup_data.set_index('Date', inplace=True)\n",
    "startup_data.head()"
   ]
  },
  {
   "cell_type": "code",
   "execution_count": 22,
   "metadata": {},
   "outputs": [],
   "source": [
    "startup_data.to_csv(\"startup_funding_data.csv\")"
   ]
  },
  {
   "cell_type": "markdown",
   "metadata": {},
   "source": [
    "## A. How does the funding ecosystem change with time?"
   ]
  },
  {
   "cell_type": "code",
   "execution_count": 23,
   "metadata": {},
   "outputs": [
    {
     "data": {
      "text/html": [
       "<div>\n",
       "<style scoped>\n",
       "    .dataframe tbody tr th:only-of-type {\n",
       "        vertical-align: middle;\n",
       "    }\n",
       "\n",
       "    .dataframe tbody tr th {\n",
       "        vertical-align: top;\n",
       "    }\n",
       "\n",
       "    .dataframe thead th {\n",
       "        text-align: right;\n",
       "    }\n",
       "</style>\n",
       "<table border=\"1\" class=\"dataframe\">\n",
       "  <thead>\n",
       "    <tr style=\"text-align: right;\">\n",
       "      <th></th>\n",
       "      <th>Number of Fundings</th>\n",
       "    </tr>\n",
       "  </thead>\n",
       "  <tbody>\n",
       "    <tr>\n",
       "      <td>2016</td>\n",
       "      <td>993</td>\n",
       "    </tr>\n",
       "    <tr>\n",
       "      <td>2015</td>\n",
       "      <td>936</td>\n",
       "    </tr>\n",
       "    <tr>\n",
       "      <td>2017</td>\n",
       "      <td>687</td>\n",
       "    </tr>\n",
       "    <tr>\n",
       "      <td>2018</td>\n",
       "      <td>529</td>\n",
       "    </tr>\n",
       "    <tr>\n",
       "      <td>2019</td>\n",
       "      <td>86</td>\n",
       "    </tr>\n",
       "    <tr>\n",
       "      <td>2020</td>\n",
       "      <td>24</td>\n",
       "    </tr>\n",
       "  </tbody>\n",
       "</table>\n",
       "</div>"
      ],
      "text/plain": [
       "      Number of Fundings\n",
       "2016                 993\n",
       "2015                 936\n",
       "2017                 687\n",
       "2018                 529\n",
       "2019                  86\n",
       "2020                  24"
      ]
     },
     "execution_count": 23,
     "metadata": {},
     "output_type": "execute_result"
    }
   ],
   "source": [
    "funding_count_yr = pd.DataFrame(startup_data['Year'].value_counts())\n",
    "funding_count_yr.rename(columns={\"Year\":\"Number of Fundings\"}, inplace=True)\n",
    "funding_count_yr"
   ]
  },
  {
   "cell_type": "code",
   "execution_count": 24,
   "metadata": {},
   "outputs": [
    {
     "data": {
      "text/html": [
       "<div>\n",
       "<style scoped>\n",
       "    .dataframe tbody tr th:only-of-type {\n",
       "        vertical-align: middle;\n",
       "    }\n",
       "\n",
       "    .dataframe tbody tr th {\n",
       "        vertical-align: top;\n",
       "    }\n",
       "\n",
       "    .dataframe thead th {\n",
       "        text-align: right;\n",
       "    }\n",
       "</style>\n",
       "<table border=\"1\" class=\"dataframe\">\n",
       "  <thead>\n",
       "    <tr style=\"text-align: right;\">\n",
       "      <th></th>\n",
       "      <th>Number of Fundings(Qtr)</th>\n",
       "      <th>QtrMonth</th>\n",
       "    </tr>\n",
       "    <tr>\n",
       "      <th>Date</th>\n",
       "      <th></th>\n",
       "      <th></th>\n",
       "    </tr>\n",
       "  </thead>\n",
       "  <tbody>\n",
       "    <tr>\n",
       "      <td>2015-01-01</td>\n",
       "      <td>209</td>\n",
       "      <td>2015-1</td>\n",
       "    </tr>\n",
       "    <tr>\n",
       "      <td>2015-04-01</td>\n",
       "      <td>215</td>\n",
       "      <td>2015-4</td>\n",
       "    </tr>\n",
       "    <tr>\n",
       "      <td>2015-07-01</td>\n",
       "      <td>275</td>\n",
       "      <td>2015-7</td>\n",
       "    </tr>\n",
       "    <tr>\n",
       "      <td>2015-10-01</td>\n",
       "      <td>237</td>\n",
       "      <td>2015-10</td>\n",
       "    </tr>\n",
       "    <tr>\n",
       "      <td>2016-01-01</td>\n",
       "      <td>251</td>\n",
       "      <td>2016-1</td>\n",
       "    </tr>\n",
       "  </tbody>\n",
       "</table>\n",
       "</div>"
      ],
      "text/plain": [
       "            Number of Fundings(Qtr) QtrMonth\n",
       "Date                                        \n",
       "2015-01-01                      209   2015-1\n",
       "2015-04-01                      215   2015-4\n",
       "2015-07-01                      275   2015-7\n",
       "2015-10-01                      237  2015-10\n",
       "2016-01-01                      251   2016-1"
      ]
     },
     "execution_count": 24,
     "metadata": {},
     "output_type": "execute_result"
    }
   ],
   "source": [
    "funding_count_qtr = pd.DataFrame(data=startup_data['Year'].resample('QS').count())\n",
    "funding_count_qtr.rename(columns={'Year':'Number of Fundings(Qtr)'}, inplace=True)\n",
    "funding_count_qtr['QtrMonth'] = ['2015-1', '2015-4', '2015-7', '2015-10', '2016-1', '2016-4', '2016-7', '2016-10', '2017-1', '2017-4', '2017-7', '2017-10', '2018-1', '2018-4', '2018-7', '2018-10', '2019-1', '2019-4', '2019-7', '2019-10', '2020-1', '2020-4', '2020-7', '2020-10']\n",
    "funding_count_qtr.head()"
   ]
  },
  {
   "cell_type": "code",
   "execution_count": 25,
   "metadata": {},
   "outputs": [
    {
     "data": {
      "text/html": [
       "<div>\n",
       "<style scoped>\n",
       "    .dataframe tbody tr th:only-of-type {\n",
       "        vertical-align: middle;\n",
       "    }\n",
       "\n",
       "    .dataframe tbody tr th {\n",
       "        vertical-align: top;\n",
       "    }\n",
       "\n",
       "    .dataframe thead th {\n",
       "        text-align: right;\n",
       "    }\n",
       "</style>\n",
       "<table border=\"1\" class=\"dataframe\">\n",
       "  <thead>\n",
       "    <tr style=\"text-align: right;\">\n",
       "      <th></th>\n",
       "      <th>Total Funding(USD-Bn)</th>\n",
       "    </tr>\n",
       "    <tr>\n",
       "      <th>Year</th>\n",
       "      <th></th>\n",
       "    </tr>\n",
       "  </thead>\n",
       "  <tbody>\n",
       "    <tr>\n",
       "      <td>2019</td>\n",
       "      <td>1.104933e+10</td>\n",
       "    </tr>\n",
       "    <tr>\n",
       "      <td>2018</td>\n",
       "      <td>1.053220e+10</td>\n",
       "    </tr>\n",
       "    <tr>\n",
       "      <td>2017</td>\n",
       "      <td>1.042931e+10</td>\n",
       "    </tr>\n",
       "    <tr>\n",
       "      <td>2015</td>\n",
       "      <td>7.441213e+09</td>\n",
       "    </tr>\n",
       "    <tr>\n",
       "      <td>2016</td>\n",
       "      <td>3.828089e+09</td>\n",
       "    </tr>\n",
       "    <tr>\n",
       "      <td>2020</td>\n",
       "      <td>9.403323e+08</td>\n",
       "    </tr>\n",
       "  </tbody>\n",
       "</table>\n",
       "</div>"
      ],
      "text/plain": [
       "      Total Funding(USD-Bn)\n",
       "Year                       \n",
       "2019           1.104933e+10\n",
       "2018           1.053220e+10\n",
       "2017           1.042931e+10\n",
       "2015           7.441213e+09\n",
       "2016           3.828089e+09\n",
       "2020           9.403323e+08"
      ]
     },
     "execution_count": 25,
     "metadata": {},
     "output_type": "execute_result"
    }
   ],
   "source": [
    "funding_total_yr = pd.DataFrame(startup_data.groupby(by=['Year'])['NewAmountUSD'].sum())\n",
    "funding_total_yr.rename(columns={\"NewAmountUSD\":\"Total Funding(USD-Bn)\"}, inplace=True)\n",
    "funding_total_yr = funding_total_yr.sort_values(by='Total Funding(USD-Bn)', ascending=False)\n",
    "funding_total_yr"
   ]
  },
  {
   "cell_type": "code",
   "execution_count": 26,
   "metadata": {},
   "outputs": [
    {
     "data": {
      "text/html": [
       "<div>\n",
       "<style scoped>\n",
       "    .dataframe tbody tr th:only-of-type {\n",
       "        vertical-align: middle;\n",
       "    }\n",
       "\n",
       "    .dataframe tbody tr th {\n",
       "        vertical-align: top;\n",
       "    }\n",
       "\n",
       "    .dataframe thead th {\n",
       "        text-align: right;\n",
       "    }\n",
       "</style>\n",
       "<table border=\"1\" class=\"dataframe\">\n",
       "  <thead>\n",
       "    <tr style=\"text-align: right;\">\n",
       "      <th></th>\n",
       "      <th>Total Fundings(Qtr USD-Bn)</th>\n",
       "      <th>QtrMonth</th>\n",
       "    </tr>\n",
       "    <tr>\n",
       "      <th>Date</th>\n",
       "      <th></th>\n",
       "      <th></th>\n",
       "    </tr>\n",
       "  </thead>\n",
       "  <tbody>\n",
       "    <tr>\n",
       "      <td>2015-01-01</td>\n",
       "      <td>1.061858e+09</td>\n",
       "      <td>2015-1</td>\n",
       "    </tr>\n",
       "    <tr>\n",
       "      <td>2015-04-01</td>\n",
       "      <td>1.165205e+09</td>\n",
       "      <td>2015-4</td>\n",
       "    </tr>\n",
       "    <tr>\n",
       "      <td>2015-07-01</td>\n",
       "      <td>3.700103e+09</td>\n",
       "      <td>2015-7</td>\n",
       "    </tr>\n",
       "    <tr>\n",
       "      <td>2015-10-01</td>\n",
       "      <td>1.514047e+09</td>\n",
       "      <td>2015-10</td>\n",
       "    </tr>\n",
       "    <tr>\n",
       "      <td>2016-01-01</td>\n",
       "      <td>1.104478e+09</td>\n",
       "      <td>2016-1</td>\n",
       "    </tr>\n",
       "  </tbody>\n",
       "</table>\n",
       "</div>"
      ],
      "text/plain": [
       "            Total Fundings(Qtr USD-Bn) QtrMonth\n",
       "Date                                           \n",
       "2015-01-01                1.061858e+09   2015-1\n",
       "2015-04-01                1.165205e+09   2015-4\n",
       "2015-07-01                3.700103e+09   2015-7\n",
       "2015-10-01                1.514047e+09  2015-10\n",
       "2016-01-01                1.104478e+09   2016-1"
      ]
     },
     "execution_count": 26,
     "metadata": {},
     "output_type": "execute_result"
    }
   ],
   "source": [
    "funding_total_qtr = pd.DataFrame(data=startup_data['NewAmountUSD'].resample('QS').sum())\n",
    "funding_total_qtr.rename(columns={'NewAmountUSD':'Total Fundings(Qtr USD-Bn)'}, inplace=True)\n",
    "funding_total_qtr['QtrMonth'] = ['2015-1', '2015-4', '2015-7', '2015-10', '2016-1', '2016-4', '2016-7', '2016-10', '2017-1', '2017-4', '2017-7', '2017-10', '2018-1', '2018-4', '2018-7', '2018-10', '2019-1', '2019-4', '2019-7', '2019-10', '2020-1', '2020-4', '2020-7', '2020-10']\n",
    "funding_total_qtr.head()"
   ]
  },
  {
   "cell_type": "code",
   "execution_count": 27,
   "metadata": {},
   "outputs": [
    {
     "data": {
      "image/png": "[encoded data removed]",
      "text/plain": [
       "<Figure size 1296x1080 with 4 Axes>"
      ]
     },
     "metadata": {
      "needs_background": "light"
     },
     "output_type": "display_data"
    }
   ],
   "source": [
    "fig, axes = plt.subplots(nrows=2, ncols=2, figsize=(18,15))\n",
    "\n",
    "sns.barplot(x=funding_count_yr.index, y=funding_count_yr['Number of Fundings'], data=funding_count_yr, ax=axes[0,0], orient='v')\n",
    "sns.barplot(x=funding_count_qtr.index, y=funding_count_qtr['Number of Fundings(Qtr)'], data=funding_count_qtr, ax=axes[0,1], orient='v').set_xticklabels(rotation=90, labels=funding_total_qtr['QtrMonth'])\n",
    "\n",
    "sns.barplot(x=funding_total_yr.index, y=funding_total_yr['Total Funding(USD-Bn)'], data=funding_total_yr, ax=axes[1,0], orient='v')\n",
    "sns.barplot(x=funding_total_qtr.index, y=funding_total_qtr['Total Fundings(Qtr USD-Bn)'], data=funding_total_qtr, ax=axes[1,1], orient='v').set_xticklabels(rotation=90, labels=funding_total_qtr['QtrMonth'])\n",
    "\n",
    "fig.tight_layout(pad=3)\n",
    "plt.show()"
   ]
  },
  {
   "cell_type": "markdown",
   "metadata": {},
   "source": [
    "## Exploring number and total fundings received by indian startups:\n",
    "From above exploration it seems that the *number of fundings* made in 2016 was highest(initial quarters in 2016) followed by 2015 but it gradually started decreasing.\n",
    "-> Lot of startups got the funding in the year 2016 and 2015, this might be due to Startup India, an initiative of the Government of India declared in August 2015. -> Giving a boost to new entrepreneur getting funds and transforming ideas into reality. Year 2015 and 2016 has spread positivity in indian startup investor market!!\n",
    "\n",
    "### Getting highest number of fundings in 2016 does not mean the total funds raised was highest in 2016 (which was only 0.38 Billion).\n",
    "-> The Total amount invested in startups was highest in 2015(majorly 3rd Quarter of 2015 when policy was declared by the Gov.) with 1.6 billion USD followed by in 2019 ~ 1.2 billion USD.\n",
    "\n",
    "### It seems number of fundings slowed down after 2016 (one of the reason can be Demonatization which affected many industries and markets). \n",
    "-> We have now entered in 2020 with lowest funding raised compared to past data. There seems some issue with domestic investors, why fundings are going down?\n",
    "\n",
    "### The best is yet to come for the investors and the startups looking for fundings.. Hope upcoming days and policies are positive to help them to build amazing projects..\n"
   ]
  },
  {
   "cell_type": "markdown",
   "metadata": {},
   "source": [
    "## B. Do cities play a major role in funding?\n",
    "We all know that the Bangluru is startup hub of India, lets see if the data is supporting the same or an other city is emerging in this race?"
   ]
  },
  {
   "cell_type": "code",
   "execution_count": 28,
   "metadata": {},
   "outputs": [
    {
     "data": {
      "text/html": [
       "<div>\n",
       "<style scoped>\n",
       "    .dataframe tbody tr th:only-of-type {\n",
       "        vertical-align: middle;\n",
       "    }\n",
       "\n",
       "    .dataframe tbody tr th {\n",
       "        vertical-align: top;\n",
       "    }\n",
       "\n",
       "    .dataframe thead th {\n",
       "        text-align: right;\n",
       "    }\n",
       "</style>\n",
       "<table border=\"1\" class=\"dataframe\">\n",
       "  <thead>\n",
       "    <tr style=\"text-align: right;\">\n",
       "      <th></th>\n",
       "      <th>Number of Fundings by City</th>\n",
       "    </tr>\n",
       "  </thead>\n",
       "  <tbody>\n",
       "    <tr>\n",
       "      <td>Bengaluru</td>\n",
       "      <td>725</td>\n",
       "    </tr>\n",
       "    <tr>\n",
       "      <td>Mumbai</td>\n",
       "      <td>441</td>\n",
       "    </tr>\n",
       "    <tr>\n",
       "      <td>Delhi</td>\n",
       "      <td>330</td>\n",
       "    </tr>\n",
       "    <tr>\n",
       "      <td>Gurugram</td>\n",
       "      <td>293</td>\n",
       "    </tr>\n",
       "    <tr>\n",
       "      <td>Pune</td>\n",
       "      <td>94</td>\n",
       "    </tr>\n",
       "  </tbody>\n",
       "</table>\n",
       "</div>"
      ],
      "text/plain": [
       "           Number of Fundings by City\n",
       "Bengaluru                         725\n",
       "Mumbai                            441\n",
       "Delhi                             330\n",
       "Gurugram                          293\n",
       "Pune                               94"
      ]
     },
     "execution_count": 28,
     "metadata": {},
     "output_type": "execute_result"
    }
   ],
   "source": [
    "fundings_count_city = pd.DataFrame(startup_data['CityLocation'].value_counts().sort_values(ascending=False)[:10])\n",
    "fundings_count_city.rename(columns={'CityLocation':'Number of Fundings by City'}, inplace=True)\n",
    "fundings_count_city.head()"
   ]
  },
  {
   "cell_type": "code",
   "execution_count": 29,
   "metadata": {},
   "outputs": [
    {
     "data": {
      "text/html": [
       "<div>\n",
       "<style scoped>\n",
       "    .dataframe tbody tr th:only-of-type {\n",
       "        vertical-align: middle;\n",
       "    }\n",
       "\n",
       "    .dataframe tbody tr th {\n",
       "        vertical-align: top;\n",
       "    }\n",
       "\n",
       "    .dataframe thead th {\n",
       "        text-align: right;\n",
       "    }\n",
       "</style>\n",
       "<table border=\"1\" class=\"dataframe\">\n",
       "  <thead>\n",
       "    <tr style=\"text-align: right;\">\n",
       "      <th></th>\n",
       "      <th>Total Funding by City(USD-Bn)</th>\n",
       "    </tr>\n",
       "    <tr>\n",
       "      <th>CityLocation</th>\n",
       "      <th></th>\n",
       "    </tr>\n",
       "  </thead>\n",
       "  <tbody>\n",
       "    <tr>\n",
       "      <td>Bengaluru</td>\n",
       "      <td>1.852340e+10</td>\n",
       "    </tr>\n",
       "    <tr>\n",
       "      <td>Mumbai</td>\n",
       "      <td>6.953288e+09</td>\n",
       "    </tr>\n",
       "    <tr>\n",
       "      <td>Gurugram</td>\n",
       "      <td>3.766303e+09</td>\n",
       "    </tr>\n",
       "    <tr>\n",
       "      <td>Delhi</td>\n",
       "      <td>1.543057e+09</td>\n",
       "    </tr>\n",
       "    <tr>\n",
       "      <td>Noida</td>\n",
       "      <td>1.248066e+09</td>\n",
       "    </tr>\n",
       "  </tbody>\n",
       "</table>\n",
       "</div>"
      ],
      "text/plain": [
       "              Total Funding by City(USD-Bn)\n",
       "CityLocation                               \n",
       "Bengaluru                      1.852340e+10\n",
       "Mumbai                         6.953288e+09\n",
       "Gurugram                       3.766303e+09\n",
       "Delhi                          1.543057e+09\n",
       "Noida                          1.248066e+09"
      ]
     },
     "execution_count": 29,
     "metadata": {},
     "output_type": "execute_result"
    }
   ],
   "source": [
    "funding_total_city = pd.DataFrame(startup_data.groupby('CityLocation')['NewAmountUSD'].sum()).sort_values(by=\"NewAmountUSD\", ascending=False)[:10]\n",
    "funding_total_city.rename(columns={'NewAmountUSD':'Total Funding by City(USD-Bn)'}, inplace=True)\n",
    "funding_total_city.head()"
   ]
  },
  {
   "cell_type": "code",
   "execution_count": 30,
   "metadata": {},
   "outputs": [
    {
     "data": {
      "image/png": "[encoded data removed]",
      "text/plain": [
       "<Figure size 1800x1080 with 2 Axes>"
      ]
     },
     "metadata": {
      "needs_background": "light"
     },
     "output_type": "display_data"
    }
   ],
   "source": [
    "fig, axes = plt.subplots(nrows=2, ncols=1, figsize=(25, 15))\n",
    "\n",
    "sns.barplot(x=fundings_count_city.index, y=fundings_count_city['Number of Fundings by City'], data=fundings_count_city, ax=axes[0])\n",
    "sns.barplot(x=funding_total_city.index, y=funding_total_city['Total Funding by City(USD-Bn)'], data=funding_total_city, ax=axes[1]).set_xticklabels(rotation=90, labels=funding_total_city.index)\n",
    "\n",
    "fig.tight_layout(pad=0.5)\n",
    "plt.show()"
   ]
  },
  {
   "cell_type": "markdown",
   "metadata": {},
   "source": [
    "### We were correct, Bangaluru it is.. the Sillicon Valley of India.\n",
    "-> There is a saying that anyone who comes to Mumbai with willpower will find his/her way to earn and live here. It seems true for statups in Bangaluru as well, the city is providing good atmospheare and is encoraging budding ideas to come to reality.\n",
    "\n",
    "-> Bangaluru has major share of its own by helping Indian economy i.e. by providing employment.\n",
    "\n",
    "-> Total fundings received by Bangaluru is highest at about 2.19 Billion and It drastically drops with Mumbai and NCR regions(Delhi, Gurgaon and Noida) followed by Chennai, Pune, Hydrabad.\n",
    "\n",
    "### This explains why is their salary difference in Bangaluru and other cities!! :) Bangaluru take me.. mold me.. teach me.. let me exlore your awsomeness.. :P"
   ]
  },
  {
   "cell_type": "markdown",
   "metadata": {},
   "source": [
    "## C. Which industries are favored by investors for funding?"
   ]
  },
  {
   "cell_type": "code",
   "execution_count": 31,
   "metadata": {},
   "outputs": [
    {
     "data": {
      "text/html": [
       "<div>\n",
       "<style scoped>\n",
       "    .dataframe tbody tr th:only-of-type {\n",
       "        vertical-align: middle;\n",
       "    }\n",
       "\n",
       "    .dataframe tbody tr th {\n",
       "        vertical-align: top;\n",
       "    }\n",
       "\n",
       "    .dataframe thead th {\n",
       "        text-align: right;\n",
       "    }\n",
       "</style>\n",
       "<table border=\"1\" class=\"dataframe\">\n",
       "  <thead>\n",
       "    <tr style=\"text-align: right;\">\n",
       "      <th></th>\n",
       "      <th>Number of Fundings by Industry</th>\n",
       "    </tr>\n",
       "  </thead>\n",
       "  <tbody>\n",
       "    <tr>\n",
       "      <td>Consumer Internet</td>\n",
       "      <td>1051</td>\n",
       "    </tr>\n",
       "    <tr>\n",
       "      <td>Technology</td>\n",
       "      <td>507</td>\n",
       "    </tr>\n",
       "    <tr>\n",
       "      <td>eCommerce</td>\n",
       "      <td>186</td>\n",
       "    </tr>\n",
       "    <tr>\n",
       "      <td>Healthcare</td>\n",
       "      <td>90</td>\n",
       "    </tr>\n",
       "    <tr>\n",
       "      <td>Finance</td>\n",
       "      <td>78</td>\n",
       "    </tr>\n",
       "  </tbody>\n",
       "</table>\n",
       "</div>"
      ],
      "text/plain": [
       "                   Number of Fundings by Industry\n",
       "Consumer Internet                            1051\n",
       "Technology                                    507\n",
       "eCommerce                                     186\n",
       "Healthcare                                     90\n",
       "Finance                                        78"
      ]
     },
     "execution_count": 31,
     "metadata": {},
     "output_type": "execute_result"
    }
   ],
   "source": [
    "fundings_count_industry = pd.DataFrame(startup_data['IndustryVertical'].value_counts().sort_values(ascending=False))[:10]\n",
    "fundings_count_industry.rename(columns={'IndustryVertical':'Number of Fundings by Industry'}, inplace=True)\n",
    "fundings_count_industry.head()"
   ]
  },
  {
   "cell_type": "code",
   "execution_count": 32,
   "metadata": {},
   "outputs": [
    {
     "data": {
      "text/html": [
       "<div>\n",
       "<style scoped>\n",
       "    .dataframe tbody tr th:only-of-type {\n",
       "        vertical-align: middle;\n",
       "    }\n",
       "\n",
       "    .dataframe tbody tr th {\n",
       "        vertical-align: top;\n",
       "    }\n",
       "\n",
       "    .dataframe thead th {\n",
       "        text-align: right;\n",
       "    }\n",
       "</style>\n",
       "<table border=\"1\" class=\"dataframe\">\n",
       "  <thead>\n",
       "    <tr style=\"text-align: right;\">\n",
       "      <th></th>\n",
       "      <th>Total Funding by Industry(USD-Bn)</th>\n",
       "    </tr>\n",
       "    <tr>\n",
       "      <th>IndustryVertical</th>\n",
       "      <th></th>\n",
       "    </tr>\n",
       "  </thead>\n",
       "  <tbody>\n",
       "    <tr>\n",
       "      <td>Consumer Internet</td>\n",
       "      <td>8.875750e+09</td>\n",
       "    </tr>\n",
       "    <tr>\n",
       "      <td>eCommerce</td>\n",
       "      <td>5.002533e+09</td>\n",
       "    </tr>\n",
       "    <tr>\n",
       "      <td>Transportation</td>\n",
       "      <td>3.911632e+09</td>\n",
       "    </tr>\n",
       "    <tr>\n",
       "      <td>Finance</td>\n",
       "      <td>3.835438e+09</td>\n",
       "    </tr>\n",
       "    <tr>\n",
       "      <td>Technology</td>\n",
       "      <td>2.374356e+09</td>\n",
       "    </tr>\n",
       "  </tbody>\n",
       "</table>\n",
       "</div>"
      ],
      "text/plain": [
       "                   Total Funding by Industry(USD-Bn)\n",
       "IndustryVertical                                    \n",
       "Consumer Internet                       8.875750e+09\n",
       "eCommerce                               5.002533e+09\n",
       "Transportation                          3.911632e+09\n",
       "Finance                                 3.835438e+09\n",
       "Technology                              2.374356e+09"
      ]
     },
     "execution_count": 32,
     "metadata": {},
     "output_type": "execute_result"
    }
   ],
   "source": [
    "funding_total_industry = pd.DataFrame(startup_data.groupby('IndustryVertical')['NewAmountUSD'].sum()).sort_values(by=\"NewAmountUSD\", ascending=False)[:10]\n",
    "funding_total_industry.rename(columns={'NewAmountUSD':'Total Funding by Industry(USD-Bn)'}, inplace=True)\n",
    "funding_total_industry.head()"
   ]
  },
  {
   "cell_type": "code",
   "execution_count": 33,
   "metadata": {},
   "outputs": [
    {
     "data": {
      "image/png": "[encoded data removed]",
      "text/plain": [
       "<Figure size 1800x1080 with 2 Axes>"
      ]
     },
     "metadata": {
      "needs_background": "light"
     },
     "output_type": "display_data"
    }
   ],
   "source": [
    "fig, axes = plt.subplots(nrows=2, ncols=1, figsize=(25, 15))\n",
    "\n",
    "sns.barplot(x=fundings_count_industry.index, y=fundings_count_industry['Number of Fundings by Industry'], data=fundings_count_industry, ax=axes[0]).set_xticklabels(rotation=90, labels=fundings_count_industry.index)\n",
    "sns.barplot(x=funding_total_industry.index, y=funding_total_industry['Total Funding by Industry(USD-Bn)'], data=funding_total_industry, ax=axes[1]).set_xticklabels(rotation=90, labels=funding_total_industry.index)\n",
    "\n",
    "fig.tight_layout(pad=1)\n",
    "#plt.xticks(rotation=90)\n",
    "plt.show()"
   ]
  },
  {
   "cell_type": "markdown",
   "metadata": {},
   "source": [
    "### 941 statups have got the fundings for Consumer Internet Industry, that seems perfectly fine as the users cunsumption growing, and we are part of it.¶\n",
    "-> Contribution in research and projects in Technology, eCommerce and Helthcare has boosted fundings and new automations are coming in to help the cosumers.\n",
    "\n",
    "-> The total amount of fundings received for eCommerce is 0.87 billion and followed by Consumer Internet(0.6 billion), Trasportation(0.39 billion) and Technology(0.22 Billion)\n",
    "\n",
    "### Many new startups are coming in the market to serve us like online Jewellery, news aggregation apps, grocery delivery, online pharmacy, educational content provider, electric scooter manufactoring. We are definatly growing and catching up with western world"
   ]
  },
  {
   "cell_type": "markdown",
   "metadata": {},
   "source": [
    "## D. Who are the important investors in the Indian Ecosystem?"
   ]
  },
  {
   "cell_type": "code",
   "execution_count": 34,
   "metadata": {},
   "outputs": [
    {
     "data": {
      "text/plain": [
       "Date\n",
       "2015-02-02    At the 10 minute million event\n",
       "2015-02-02    At the 10 minute million event\n",
       "2015-02-02    At the 10 minute million event\n",
       "2015-02-02    At the 10 minute million event\n",
       "2015-02-02    At the 10 minute million event\n",
       "                           ...              \n",
       "2016-05-31                      HT Media Ltd\n",
       "2016-05-31      NSI Infinium Global Pvt. Ltd\n",
       "2016-05-31        HBM Healthcare Investments\n",
       "2016-05-31                      Ashish Gupta\n",
       "2016-05-31             Undisclosed Investors\n",
       "Name: InvestorsName, Length: 3255, dtype: object"
      ]
     },
     "execution_count": 34,
     "metadata": {},
     "output_type": "execute_result"
    }
   ],
   "source": [
    "startup_data['InvestorsName']"
   ]
  },
  {
   "cell_type": "code",
   "execution_count": 35,
   "metadata": {},
   "outputs": [
    {
     "data": {
      "text/html": [
       "<div>\n",
       "<style scoped>\n",
       "    .dataframe tbody tr th:only-of-type {\n",
       "        vertical-align: middle;\n",
       "    }\n",
       "\n",
       "    .dataframe tbody tr th {\n",
       "        vertical-align: top;\n",
       "    }\n",
       "\n",
       "    .dataframe thead th {\n",
       "        text-align: right;\n",
       "    }\n",
       "</style>\n",
       "<table border=\"1\" class=\"dataframe\">\n",
       "  <thead>\n",
       "    <tr style=\"text-align: right;\">\n",
       "      <th></th>\n",
       "      <th>Number of Investments by Investor</th>\n",
       "    </tr>\n",
       "  </thead>\n",
       "  <tbody>\n",
       "    <tr>\n",
       "      <td>Seed Funding</td>\n",
       "      <td>414</td>\n",
       "    </tr>\n",
       "    <tr>\n",
       "      <td>Private Equity</td>\n",
       "      <td>351</td>\n",
       "    </tr>\n",
       "    <tr>\n",
       "      <td>Series A</td>\n",
       "      <td>24</td>\n",
       "    </tr>\n",
       "    <tr>\n",
       "      <td>Undisclosed investors</td>\n",
       "      <td>22</td>\n",
       "    </tr>\n",
       "    <tr>\n",
       "      <td>Indian Angel Network</td>\n",
       "      <td>16</td>\n",
       "    </tr>\n",
       "  </tbody>\n",
       "</table>\n",
       "</div>"
      ],
      "text/plain": [
       "                       Number of Investments by Investor\n",
       "Seed Funding                                         414\n",
       "Private Equity                                       351\n",
       "Series A                                              24\n",
       "Undisclosed investors                                 22\n",
       "Indian Angel Network                                  16"
      ]
     },
     "execution_count": 35,
     "metadata": {},
     "output_type": "execute_result"
    }
   ],
   "source": [
    "funding_count_investor = pd.DataFrame(startup_data['InvestorsName'].value_counts()).sort_values(by='InvestorsName', ascending=False)[:10]\n",
    "funding_count_investor.rename(columns={'InvestorsName': 'Number of Investments by Investor'}, inplace=True)\n",
    "funding_count_investor.drop(funding_count_investor[funding_count_investor.index == 'Undisclosed Investors'].index, inplace=True)\n",
    "funding_count_investor.head()"
   ]
  },
  {
   "cell_type": "code",
   "execution_count": 36,
   "metadata": {},
   "outputs": [
    {
     "data": {
      "text/html": [
       "<div>\n",
       "<style scoped>\n",
       "    .dataframe tbody tr th:only-of-type {\n",
       "        vertical-align: middle;\n",
       "    }\n",
       "\n",
       "    .dataframe tbody tr th {\n",
       "        vertical-align: top;\n",
       "    }\n",
       "\n",
       "    .dataframe thead th {\n",
       "        text-align: right;\n",
       "    }\n",
       "</style>\n",
       "<table border=\"1\" class=\"dataframe\">\n",
       "  <thead>\n",
       "    <tr style=\"text-align: right;\">\n",
       "      <th></th>\n",
       "      <th>Total Funding by Investor(USD-Bn)</th>\n",
       "    </tr>\n",
       "    <tr>\n",
       "      <th>InvestorsName</th>\n",
       "      <th></th>\n",
       "    </tr>\n",
       "  </thead>\n",
       "  <tbody>\n",
       "    <tr>\n",
       "      <td>Private Equity</td>\n",
       "      <td>7.308642e+09</td>\n",
       "    </tr>\n",
       "    <tr>\n",
       "      <td>Westbridge Capital</td>\n",
       "      <td>3.900000e+09</td>\n",
       "    </tr>\n",
       "    <tr>\n",
       "      <td>Softbank</td>\n",
       "      <td>2.500000e+09</td>\n",
       "    </tr>\n",
       "    <tr>\n",
       "      <td>Undisclosed Investors</td>\n",
       "      <td>2.457224e+09</td>\n",
       "    </tr>\n",
       "    <tr>\n",
       "      <td>Qiming Venture Partners</td>\n",
       "      <td>1.510950e+09</td>\n",
       "    </tr>\n",
       "  </tbody>\n",
       "</table>\n",
       "</div>"
      ],
      "text/plain": [
       "                          Total Funding by Investor(USD-Bn)\n",
       "InvestorsName                                              \n",
       "Private Equity                                 7.308642e+09\n",
       "Westbridge Capital                             3.900000e+09\n",
       "Softbank                                       2.500000e+09\n",
       "Undisclosed Investors                          2.457224e+09\n",
       "Qiming Venture Partners                        1.510950e+09"
      ]
     },
     "execution_count": 36,
     "metadata": {},
     "output_type": "execute_result"
    }
   ],
   "source": [
    "funding_total_investor = pd.DataFrame(startup_data.groupby(['InvestorsName'])['NewAmountUSD'].sum()).sort_values(by=\"NewAmountUSD\", ascending=False)[:15]\n",
    "funding_total_investor.rename(columns={'NewAmountUSD':'Total Funding by Investor(USD-Bn)'}, inplace=True)\n",
    "funding_total_investor.head()"
   ]
  },
  {
   "cell_type": "code",
   "execution_count": 37,
   "metadata": {},
   "outputs": [
    {
     "data": {
      "image/png": "[encoded data removed]",
      "text/plain": [
       "<Figure size 1800x1080 with 2 Axes>"
      ]
     },
     "metadata": {
      "needs_background": "light"
     },
     "output_type": "display_data"
    }
   ],
   "source": [
    "fig, axes = plt.subplots(nrows=2, ncols=1, figsize=(25, 15))\n",
    "\n",
    "sns.barplot(x=funding_count_investor.index, y=funding_count_investor['Number of Investments by Investor'], data=funding_count_investor, ax=axes[0]).set_xticklabels(rotation=90, labels=funding_count_investor.index)\n",
    "sns.barplot(x=funding_total_investor.index, y=funding_total_investor['Total Funding by Investor(USD-Bn)'], data=funding_total_investor, ax=axes[1]).set_xticklabels(rotation=90, labels=funding_total_investor.index)\n",
    "\n",
    "fig.tight_layout(pad=1)\n",
    "plt.show()"
   ]
  },
  {
   "cell_type": "code",
   "execution_count": 38,
   "metadata": {},
   "outputs": [
    {
     "data": {
      "text/html": [
       "<div>\n",
       "<style scoped>\n",
       "    .dataframe tbody tr th:only-of-type {\n",
       "        vertical-align: middle;\n",
       "    }\n",
       "\n",
       "    .dataframe tbody tr th {\n",
       "        vertical-align: top;\n",
       "    }\n",
       "\n",
       "    .dataframe thead th {\n",
       "        text-align: right;\n",
       "    }\n",
       "</style>\n",
       "<table border=\"1\" class=\"dataframe\">\n",
       "  <thead>\n",
       "    <tr style=\"text-align: right;\">\n",
       "      <th></th>\n",
       "      <th>Year</th>\n",
       "      <th>Month</th>\n",
       "      <th>StartupName</th>\n",
       "      <th>IndustryVertical</th>\n",
       "      <th>SubVertical</th>\n",
       "      <th>CityLocation</th>\n",
       "      <th>InvestorsName</th>\n",
       "      <th>InvestmentType</th>\n",
       "      <th>NewAmountUSD</th>\n",
       "    </tr>\n",
       "    <tr>\n",
       "      <th>Date</th>\n",
       "      <th></th>\n",
       "      <th></th>\n",
       "      <th></th>\n",
       "      <th></th>\n",
       "      <th></th>\n",
       "      <th></th>\n",
       "      <th></th>\n",
       "      <th></th>\n",
       "      <th></th>\n",
       "    </tr>\n",
       "  </thead>\n",
       "  <tbody>\n",
       "    <tr>\n",
       "      <td>2017-11-08</td>\n",
       "      <td>2017</td>\n",
       "      <td>11</td>\n",
       "      <td>Flipkart</td>\n",
       "      <td>eCommerce</td>\n",
       "      <td>Online Marketplace</td>\n",
       "      <td>Bengaluru</td>\n",
       "      <td>Softbank</td>\n",
       "      <td>Private Equity</td>\n",
       "      <td>2.500000e+09</td>\n",
       "    </tr>\n",
       "    <tr>\n",
       "      <td>2019-08-27</td>\n",
       "      <td>2019</td>\n",
       "      <td>8</td>\n",
       "      <td>Rapido Bike Taxi</td>\n",
       "      <td>Transportation</td>\n",
       "      <td>Bike Taxi</td>\n",
       "      <td>Bengaluru</td>\n",
       "      <td>Westbridge Capital</td>\n",
       "      <td>Series B</td>\n",
       "      <td>3.900000e+09</td>\n",
       "    </tr>\n",
       "  </tbody>\n",
       "</table>\n",
       "</div>"
      ],
      "text/plain": [
       "            Year  Month       StartupName IndustryVertical  \\\n",
       "Date                                                         \n",
       "2017-11-08  2017     11          Flipkart        eCommerce   \n",
       "2019-08-27  2019      8  Rapido Bike Taxi   Transportation   \n",
       "\n",
       "                   SubVertical CityLocation       InvestorsName  \\\n",
       "Date                                                              \n",
       "2017-11-08  Online Marketplace    Bengaluru            Softbank   \n",
       "2019-08-27           Bike Taxi    Bengaluru  Westbridge Capital   \n",
       "\n",
       "            InvestmentType  NewAmountUSD  \n",
       "Date                                      \n",
       "2017-11-08  Private Equity  2.500000e+09  \n",
       "2019-08-27        Series B  3.900000e+09  "
      ]
     },
     "execution_count": 38,
     "metadata": {},
     "output_type": "execute_result"
    }
   ],
   "source": [
    "startup_data[startup_data['InvestorsName'].isin(['Westbridge Capital', 'Softbank'])]"
   ]
  },
  {
   "cell_type": "markdown",
   "metadata": {},
   "source": [
    "### A one-man venture capital fund is funding Indian startups giving lot of credibility and future.\n",
    "\n",
    "-> Here in India, **Seed Funding** is majorly used for investments in startups, followed by **Private Equity** then comes to Sir Ratan Tata, Number of startups he has funded are 25 and increasing. This is followed by Indian Angel Network(23), Kalaari Capital(16) etc.\n",
    "\n",
    "-> Total amount invested 0.39 billion USD by Westbridge Capital is the highest in 'Rapido Bike Taxi' and Softbank has invested 0.29 billion USD in Flipkart"
   ]
  },
  {
   "cell_type": "markdown",
   "metadata": {},
   "source": [
    "## E. How much funds does startups generally get in India?"
   ]
  },
  {
   "cell_type": "code",
   "execution_count": 39,
   "metadata": {},
   "outputs": [
    {
     "data": {
      "text/html": [
       "<div>\n",
       "<style scoped>\n",
       "    .dataframe tbody tr th:only-of-type {\n",
       "        vertical-align: middle;\n",
       "    }\n",
       "\n",
       "    .dataframe tbody tr th {\n",
       "        vertical-align: top;\n",
       "    }\n",
       "\n",
       "    .dataframe thead th {\n",
       "        text-align: right;\n",
       "    }\n",
       "</style>\n",
       "<table border=\"1\" class=\"dataframe\">\n",
       "  <thead>\n",
       "    <tr style=\"text-align: right;\">\n",
       "      <th></th>\n",
       "      <th>Number of Investments by Investor</th>\n",
       "    </tr>\n",
       "  </thead>\n",
       "  <tbody>\n",
       "    <tr>\n",
       "      <td>Nykaa</td>\n",
       "      <td>9</td>\n",
       "    </tr>\n",
       "    <tr>\n",
       "      <td>Swiggy</td>\n",
       "      <td>8</td>\n",
       "    </tr>\n",
       "    <tr>\n",
       "      <td>Ola Cabs</td>\n",
       "      <td>8</td>\n",
       "    </tr>\n",
       "    <tr>\n",
       "      <td>Paytm</td>\n",
       "      <td>7</td>\n",
       "    </tr>\n",
       "    <tr>\n",
       "      <td>Udaan</td>\n",
       "      <td>7</td>\n",
       "    </tr>\n",
       "  </tbody>\n",
       "</table>\n",
       "</div>"
      ],
      "text/plain": [
       "          Number of Investments by Investor\n",
       "Nykaa                                     9\n",
       "Swiggy                                    8\n",
       "Ola Cabs                                  8\n",
       "Paytm                                     7\n",
       "Udaan                                     7"
      ]
     },
     "execution_count": 39,
     "metadata": {},
     "output_type": "execute_result"
    }
   ],
   "source": [
    "funding_count_company = pd.DataFrame(startup_data['StartupName'].value_counts()).sort_values(by='StartupName', ascending=False)[:15]\n",
    "funding_count_company.rename(columns={'StartupName': 'Number of Investments by Investor'}, inplace=True)\n",
    "funding_count_company.head()"
   ]
  },
  {
   "cell_type": "code",
   "execution_count": 40,
   "metadata": {},
   "outputs": [
    {
     "data": {
      "text/html": [
       "<div>\n",
       "<style scoped>\n",
       "    .dataframe tbody tr th:only-of-type {\n",
       "        vertical-align: middle;\n",
       "    }\n",
       "\n",
       "    .dataframe tbody tr th {\n",
       "        vertical-align: top;\n",
       "    }\n",
       "\n",
       "    .dataframe thead th {\n",
       "        text-align: right;\n",
       "    }\n",
       "</style>\n",
       "<table border=\"1\" class=\"dataframe\">\n",
       "  <thead>\n",
       "    <tr style=\"text-align: right;\">\n",
       "      <th></th>\n",
       "      <th>Total amount Raised by Startup (USD-Bn)</th>\n",
       "    </tr>\n",
       "    <tr>\n",
       "      <th>StartupName</th>\n",
       "      <th></th>\n",
       "    </tr>\n",
       "  </thead>\n",
       "  <tbody>\n",
       "    <tr>\n",
       "      <td>Flipkart</td>\n",
       "      <td>4.059700e+09</td>\n",
       "    </tr>\n",
       "    <tr>\n",
       "      <td>Rapido Bike Taxi</td>\n",
       "      <td>3.900000e+09</td>\n",
       "    </tr>\n",
       "    <tr>\n",
       "      <td>Paytm</td>\n",
       "      <td>3.148950e+09</td>\n",
       "    </tr>\n",
       "    <tr>\n",
       "      <td>True North</td>\n",
       "      <td>2.400000e+09</td>\n",
       "    </tr>\n",
       "    <tr>\n",
       "      <td>Udaan</td>\n",
       "      <td>1.545000e+09</td>\n",
       "    </tr>\n",
       "  </tbody>\n",
       "</table>\n",
       "</div>"
      ],
      "text/plain": [
       "                  Total amount Raised by Startup (USD-Bn)\n",
       "StartupName                                              \n",
       "Flipkart                                     4.059700e+09\n",
       "Rapido Bike Taxi                             3.900000e+09\n",
       "Paytm                                        3.148950e+09\n",
       "True North                                   2.400000e+09\n",
       "Udaan                                        1.545000e+09"
      ]
     },
     "execution_count": 40,
     "metadata": {},
     "output_type": "execute_result"
    }
   ],
   "source": [
    "funding_total_company = pd.DataFrame(startup_data.groupby('StartupName')['NewAmountUSD'].sum()).sort_values(by='NewAmountUSD', ascending=False)[:15]\n",
    "funding_total_company.rename(columns={'NewAmountUSD': \"Total amount Raised by Startup (USD-Bn)\"}, inplace=True)\n",
    "funding_total_company.head()"
   ]
  },
  {
   "cell_type": "code",
   "execution_count": 41,
   "metadata": {},
   "outputs": [
    {
     "data": {
      "image/png": "[encoded data removed]",
      "text/plain": [
       "<Figure size 1800x1080 with 2 Axes>"
      ]
     },
     "metadata": {
      "needs_background": "light"
     },
     "output_type": "display_data"
    }
   ],
   "source": [
    "fig, axes = plt.subplots(nrows=2, ncols=1, figsize=(25, 15))\n",
    "\n",
    "sns.barplot(x=funding_count_company.index, y=funding_count_company['Number of Investments by Investor'], data=funding_count_company, ax=axes[0]).set_xticklabels(rotation=90, labels=funding_count_company.index)\n",
    "sns.barplot(x=funding_total_company.index, y=funding_total_company['Total amount Raised by Startup (USD-Bn)'], data=funding_total_company, ax=axes[1]).set_xticklabels(rotation=90, labels=funding_total_company.index)\n",
    "\n",
    "fig.tight_layout(pad=1)\n",
    "plt.show()"
   ]
  },
  {
   "cell_type": "markdown",
   "metadata": {},
   "source": [
    "### Swiggy, Ola Cabs, Paytm, Nykaa etc has got lot of fundings these years. This due to their constant innovation in surving cunsumer with AI.\n",
    "-> Total funding received by Flipkart is highest 0.4 billion USD followed by Rapido Bike Taxi with 0.39 billion USD."
   ]
  },
  {
   "cell_type": "code",
   "execution_count": 42,
   "metadata": {},
   "outputs": [
    {
     "data": {
      "image/png": "[encoded data removed]",
      "text/plain": [
       "<Figure size 1800x576 with 1 Axes>"
      ]
     },
     "metadata": {
      "needs_background": "light"
     },
     "output_type": "display_data"
    }
   ],
   "source": [
    "plt.figure(figsize=(25,8))\n",
    "sns.distplot(startup_data.loc[startup_data['NewAmountUSD']<=10000000.0, 'NewAmountUSD'])\n",
    "plt.show()"
   ]
  },
  {
   "cell_type": "code",
   "execution_count": 43,
   "metadata": {},
   "outputs": [
    {
     "name": "stdout",
     "output_type": "stream",
     "text": [
      "Average : 13585396.783102918\n",
      "Median : 470000.0\n"
     ]
    }
   ],
   "source": [
    "funding_average = startup_data['NewAmountUSD'].mean()\n",
    "funding_meadian = startup_data['NewAmountUSD'].median()\n",
    "print(\"Average :\", funding_average)\n",
    "print(\"Median :\", funding_meadian)"
   ]
  },
  {
   "cell_type": "markdown",
   "metadata": {},
   "source": [
    "### Average fundings received is 15 million USD and most of the companies get 5 lac. Indian startup market is helping new innovations to come to live and encouraging entrepreneurs.\n",
    "-> Ending my EDA on this data, got to learn so much about startupd and investor market in India, hope to see more growth in investers.\n",
    "\n",
    "-> Please give me feedback and suggestions which will help me grow more.\n",
    "\n",
    "-> I am a data enthusiast and building my career in Data Science. Please give feedback and upvote if you like this article. You can connect with me on LinkedIn (https://www.linkedin.com/in/charulata-shelar-9726984a)\n",
    "\n",
    "see you soon..."
   ]
  },
  {
   "cell_type": "code",
   "execution_count": null,
   "metadata": {},
   "outputs": [],
   "source": []
  }
 ],
 "metadata": {
  "kernelspec": {
   "display_name": "Python 3",
   "language": "python",
   "name": "python3"
  },
  "language_info": {
   "codemirror_mode": {
    "name": "ipython",
    "version": 3
   },
   "file_extension": ".py",
   "mimetype": "text/x-python",
   "name": "python",
   "nbconvert_exporter": "python",
   "pygments_lexer": "ipython3",
   "version": "3.7.4"
  }
 },
 "nbformat": 4,
 "nbformat_minor": 2
}
